{
  "nbformat": 4,
  "nbformat_minor": 0,
  "metadata": {
    "colab": {
      "name": "Untitled0.ipynb",
      "provenance": [],
      "authorship_tag": "ABX9TyMC9WrRFuO0+RsNMLhAJdqF",
      "include_colab_link": true
    },
    "kernelspec": {
      "name": "python3",
      "display_name": "Python 3"
    },
    "language_info": {
      "name": "python"
    }
  },
  "cells": [
    {
      "cell_type": "markdown",
      "metadata": {
        "id": "view-in-github",
        "colab_type": "text"
      },
      "source": [
        "<a href=\"https://colab.research.google.com/github/Saaanu/DataScience/blob/main/Sample%20Questions.ipynb\" target=\"_parent\"><img src=\"https://colab.research.google.com/assets/colab-badge.svg\" alt=\"Open In Colab\"/></a>"
      ]
    },
    {
      "cell_type": "code",
      "execution_count": null,
      "metadata": {
        "colab": {
          "base_uri": "https://localhost:8080/"
        },
        "id": "iTr6VlRg7DGX",
        "outputId": "59575de4-4997-493f-9e49-1445ab0fcdec"
      },
      "outputs": [
        {
          "output_type": "stream",
          "name": "stdout",
          "text": [
            "0 3 6 9 12 15 "
          ]
        }
      ],
      "source": [
        "count=0\n",
        "while(True):\n",
        "  if count%3==0:\n",
        "    print(count, end=\" \")\n",
        "  if(count>15):\n",
        "    break;\n",
        "  count +=1"
      ]
    },
    {
      "cell_type": "code",
      "source": [
        "def check(a):\n",
        "  print(\"Even\" if a%2==0 else \"Odd\")\n",
        "\n",
        "check(12)"
      ],
      "metadata": {
        "colab": {
          "base_uri": "https://localhost:8080/"
        },
        "id": "eMgL-7u_7s_o",
        "outputId": "a1f10d9c-caaa-4044-c72b-ad7d9f7e765a"
      },
      "execution_count": null,
      "outputs": [
        {
          "output_type": "stream",
          "name": "stdout",
          "text": [
            "Even\n"
          ]
        }
      ]
    },
    {
      "cell_type": "code",
      "source": [
        "def thrive(n):\n",
        "  if n%15==0:\n",
        "    print(\"thrive\", end=\" \")\n",
        "  elif n%3!=0 and n%5!=0:\n",
        "    print(\"neither\", end=\" \")\n",
        "  elif n%3==0:\n",
        "    print(\"three\", end=\" \")\n",
        "  elif n%5==0:\n",
        "    print(\"five\", end=\" \")\n",
        "thrive(35)\n",
        "thrive(56)\n",
        "thrive(15)\n",
        "thrive(39)"
      ],
      "metadata": {
        "colab": {
          "base_uri": "https://localhost:8080/"
        },
        "id": "syH1wZjq7_Kt",
        "outputId": "1f5707ce-72fe-4381-d6ea-e6f8018cb3c0"
      },
      "execution_count": null,
      "outputs": [
        {
          "output_type": "stream",
          "name": "stdout",
          "text": [
            "five neither thrive three "
          ]
        }
      ]
    },
    {
      "cell_type": "code",
      "source": [
        "example=[\"Sunday\",\"Monday\",\"Tuesday\",\"Wednesday\"];\n",
        "print(example[-3:-1])"
      ],
      "metadata": {
        "colab": {
          "base_uri": "https://localhost:8080/"
        },
        "id": "RR45nD0p8Q9C",
        "outputId": "835539b6-c6a5-4454-a0e1-a6f918347705"
      },
      "execution_count": null,
      "outputs": [
        {
          "output_type": "stream",
          "name": "stdout",
          "text": [
            "['Monday', 'Tuesday']\n"
          ]
        }
      ]
    },
    {
      "cell_type": "code",
      "source": [
        "a=1\n",
        "while True:\n",
        "  if a%7==0:\n",
        "    break\n",
        "  print(a)\n",
        "  a+=1"
      ],
      "metadata": {
        "colab": {
          "base_uri": "https://localhost:8080/"
        },
        "id": "0YqxzMJq9Wls",
        "outputId": "cf9006a6-9276-4d12-bcc3-a7eda1fe4910"
      },
      "execution_count": null,
      "outputs": [
        {
          "output_type": "stream",
          "name": "stdout",
          "text": [
            "1\n",
            "2\n",
            "3\n",
            "4\n",
            "5\n",
            "6\n"
          ]
        }
      ]
    }
  ]
}